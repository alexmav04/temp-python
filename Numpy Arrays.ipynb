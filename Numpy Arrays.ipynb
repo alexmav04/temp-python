{
 "cells": [
  {
   "cell_type": "code",
   "execution_count": 1,
   "metadata": {},
   "outputs": [],
   "source": [
    "import numpy as np"
   ]
  },
  {
   "cell_type": "code",
   "execution_count": 4,
   "metadata": {},
   "outputs": [
    {
     "data": {
      "text/plain": [
       "array([1, 2, 3])"
      ]
     },
     "execution_count": 4,
     "metadata": {},
     "output_type": "execute_result"
    }
   ],
   "source": [
    "l = [1,2,3]\n",
    "np.array(l)"
   ]
  },
  {
   "cell_type": "code",
   "execution_count": 6,
   "metadata": {},
   "outputs": [
    {
     "data": {
      "text/plain": [
       "array([0., 1.])"
      ]
     },
     "execution_count": 6,
     "metadata": {},
     "output_type": "execute_result"
    }
   ],
   "source": [
    "np.empty(2)"
   ]
  },
  {
   "cell_type": "code",
   "execution_count": 7,
   "metadata": {},
   "outputs": [
    {
     "data": {
      "text/plain": [
       "array([4.94065646e-324, 6.95190614e-310, 3.74501760e-321,             nan,\n",
       "       1.12646967e-321, 0.00000000e+000, 5.94193063e+005, 4.82334828e+228,\n",
       "       5.46646464e+241, 1.67772468e+243, 4.00979049e+087, 4.78108711e+180,\n",
       "       1.27734658e-152, 3.73646296e+247, 2.64686521e+180, 4.07544792e+155,\n",
       "       9.33602100e+077, 1.14448054e+243, 4.46811730e-091, 4.47593816e-091,\n",
       "       8.79656162e+199, 1.03696634e-028, 4.30627438e-096, 8.99984137e+218,\n",
       "       4.30627439e-096, 2.18236227e-094, 6.52016598e+252, 2.43648707e-154,\n",
       "       1.72219190e+097, 4.45197005e+252, 4.53258810e+217, 2.34785712e+251,\n",
       "       6.78875630e+199, 1.02188594e-152, 2.63697791e+092, 4.24515351e+175,\n",
       "       8.80091446e+199, 6.01347002e-154, 4.99898676e+217, 2.19993033e-152,\n",
       "       5.03061519e+223, 4.24355644e+175, 1.06083758e-153, 8.78415623e+247,\n",
       "       2.35173545e+251, 5.03515679e+223, 6.01347002e-154, 1.29173211e+171,\n",
       "       2.31261083e-152, 1.27967852e-152, 4.82407125e+228, 1.14448381e+243,\n",
       "       1.21906099e-152, 6.84976763e+180, 2.08654325e-066, 5.98189660e-154,\n",
       "       1.47707735e+248, 1.27734658e-152, 1.33856861e-152, 1.14442436e+243,\n",
       "       5.70949402e+228, 8.80218255e+199, 1.02686056e+248, 7.67112743e+170,\n",
       "       4.53683545e+217, 6.01346953e-154, 3.01471692e+161, 6.99196216e+228,\n",
       "       6.49988887e+029, 9.41212567e-119, 3.09446695e+262, 1.15493978e+171,\n",
       "       2.19993033e-152, 1.78935928e+161, 1.42717747e+248, 6.01347002e-154,\n",
       "       4.99898249e+217, 2.19993033e-152, 5.03061519e+223, 9.81676357e+252,\n",
       "       1.38093273e-094, 4.52497683e+217, 7.50868263e+247, 1.29009674e-153,\n",
       "       6.01334668e-154, 9.30860616e+199, 4.52176622e+217, 2.64521034e+185,\n",
       "       5.21972565e+180, 2.96830737e+222, 5.98129759e-154, 3.02876359e-086,\n",
       "       9.08366791e+223, 1.95618065e-153, 6.01334537e-154, 6.01347002e-154,\n",
       "       6.38166552e+247, 2.81744255e+242, 4.18322027e+025, 1.14448381e+243])"
      ]
     },
     "execution_count": 7,
     "metadata": {},
     "output_type": "execute_result"
    }
   ],
   "source": [
    "np.empty(100)"
   ]
  },
  {
   "cell_type": "markdown",
   "metadata": {},
   "source": [
    "## with caution"
   ]
  },
  {
   "cell_type": "code",
   "execution_count": 9,
   "metadata": {},
   "outputs": [
    {
     "data": {
      "text/plain": [
       "array([0., 0., 0., 0., 0., 0., 0., 0., 0., 0.])"
      ]
     },
     "execution_count": 9,
     "metadata": {},
     "output_type": "execute_result"
    }
   ],
   "source": [
    "np.zeros(10)"
   ]
  },
  {
   "cell_type": "code",
   "execution_count": 10,
   "metadata": {},
   "outputs": [
    {
     "data": {
      "text/plain": [
       "array([1., 1., 1., 1., 1., 1., 1., 1., 1., 1.])"
      ]
     },
     "execution_count": 10,
     "metadata": {},
     "output_type": "execute_result"
    }
   ],
   "source": [
    "np.ones(10)"
   ]
  },
  {
   "cell_type": "markdown",
   "metadata": {},
   "source": [
    "## A RANGE - arange"
   ]
  },
  {
   "cell_type": "code",
   "execution_count": 11,
   "metadata": {},
   "outputs": [
    {
     "data": {
      "text/plain": [
       "array([ 1,  2,  3,  4,  5,  6,  7,  8,  9, 10])"
      ]
     },
     "execution_count": 11,
     "metadata": {},
     "output_type": "execute_result"
    }
   ],
   "source": [
    "np.arange(1,11)"
   ]
  },
  {
   "cell_type": "code",
   "execution_count": 13,
   "metadata": {},
   "outputs": [
    {
     "data": {
      "text/plain": [
       "array([ 0,  2,  4,  6,  8, 10, 12, 14, 16, 18, 20])"
      ]
     },
     "execution_count": 13,
     "metadata": {},
     "output_type": "execute_result"
    }
   ],
   "source": [
    "np.arange(0,22,2)"
   ]
  },
  {
   "cell_type": "code",
   "execution_count": 16,
   "metadata": {},
   "outputs": [
    {
     "data": {
      "text/plain": [
       "array([ 4, 32, 15, 37, 43, 67,  4, 17])"
      ]
     },
     "execution_count": 16,
     "metadata": {},
     "output_type": "execute_result"
    }
   ],
   "source": [
    "l = [4, 32, 15, 37, 43, 67, 4, 17]\n",
    "ar = np.array(l)\n",
    "ar"
   ]
  },
  {
   "cell_type": "code",
   "execution_count": 17,
   "metadata": {},
   "outputs": [
    {
     "data": {
      "text/plain": [
       "67"
      ]
     },
     "execution_count": 17,
     "metadata": {},
     "output_type": "execute_result"
    }
   ],
   "source": [
    "ar.max()"
   ]
  },
  {
   "cell_type": "code",
   "execution_count": 18,
   "metadata": {},
   "outputs": [
    {
     "data": {
      "text/plain": [
       "4"
      ]
     },
     "execution_count": 18,
     "metadata": {},
     "output_type": "execute_result"
    }
   ],
   "source": [
    "ar.min()"
   ]
  },
  {
   "cell_type": "code",
   "execution_count": 20,
   "metadata": {},
   "outputs": [
    {
     "data": {
      "text/plain": [
       "5"
      ]
     },
     "execution_count": 20,
     "metadata": {},
     "output_type": "execute_result"
    }
   ],
   "source": [
    "ar.argmax()"
   ]
  },
  {
   "cell_type": "code",
   "execution_count": 21,
   "metadata": {},
   "outputs": [
    {
     "data": {
      "text/plain": [
       "0"
      ]
     },
     "execution_count": 21,
     "metadata": {},
     "output_type": "execute_result"
    }
   ],
   "source": [
    "ar.argmin()"
   ]
  },
  {
   "cell_type": "code",
   "execution_count": 23,
   "metadata": {},
   "outputs": [
    {
     "data": {
      "text/plain": [
       "(8,)"
      ]
     },
     "execution_count": 23,
     "metadata": {},
     "output_type": "execute_result"
    }
   ],
   "source": [
    "ar.shape"
   ]
  },
  {
   "cell_type": "code",
   "execution_count": 24,
   "metadata": {},
   "outputs": [
    {
     "data": {
      "text/plain": [
       "8"
      ]
     },
     "execution_count": 24,
     "metadata": {},
     "output_type": "execute_result"
    }
   ],
   "source": [
    "len(ar.tolist())"
   ]
  },
  {
   "cell_type": "code",
   "execution_count": 25,
   "metadata": {},
   "outputs": [
    {
     "data": {
      "text/plain": [
       "array([1, 1, 1, 1, 1, 1, 1, 1, 1, 1], dtype=int16)"
      ]
     },
     "execution_count": 25,
     "metadata": {},
     "output_type": "execute_result"
    }
   ],
   "source": [
    "np.ones(10, np.int16)"
   ]
  },
  {
   "cell_type": "code",
   "execution_count": 26,
   "metadata": {},
   "outputs": [
    {
     "data": {
      "text/plain": [
       "dtype('int32')"
      ]
     },
     "execution_count": 26,
     "metadata": {},
     "output_type": "execute_result"
    }
   ],
   "source": [
    "ar.dtype"
   ]
  }
 ],
 "metadata": {
  "kernelspec": {
   "display_name": "Python 3",
   "language": "python",
   "name": "python3"
  },
  "language_info": {
   "codemirror_mode": {
    "name": "ipython",
    "version": 3
   },
   "file_extension": ".py",
   "mimetype": "text/x-python",
   "name": "python",
   "nbconvert_exporter": "python",
   "pygments_lexer": "ipython3",
   "version": "3.8.3"
  }
 },
 "nbformat": 4,
 "nbformat_minor": 4
}
